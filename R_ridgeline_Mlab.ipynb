{
 "cells": [
  {
   "cell_type": "markdown",
   "metadata": {},
   "source": [
    "# M-Lab Ridgeline Chart "
   ]
  },
  {
   "cell_type": "code",
   "execution_count": 2,
   "metadata": {},
   "outputs": [
    {
     "name": "stderr",
     "output_type": "stream",
     "text": [
      "Loading required package: ggplot2\n",
      "Warning message:\n",
      "“package ‘ggplot2’ was built under R version 3.4.4”Loading required package: ggridges\n",
      "Warning message:\n",
      "“package ‘ggridges’ was built under R version 3.4.4”\n",
      "Attaching package: ‘ggridges’\n",
      "\n",
      "The following object is masked from ‘package:ggplot2’:\n",
      "\n",
      "    scale_discrete_manual\n",
      "\n",
      "Loading required package: bigrquery\n",
      "Warning message:\n",
      "“package ‘bigrquery’ was built under R version 3.4.4”"
     ]
    }
   ],
   "source": [
    "# libraries needed for the ridgeline chart\n",
    "require(ggplot2)\n",
    "require(ggridges)\n",
    "require(bigrquery)\n",
    "\n",
    "library(bigrquery)\n",
    "library(\"ggplot2\")\n",
    "library(\"ggridges\")"
   ]
  },
  {
   "cell_type": "code",
   "execution_count": 2,
   "metadata": {
    "scrolled": true
   },
   "outputs": [
    {
     "name": "stderr",
     "output_type": "stream",
     "text": [
      "Waiting for authentication in browser...\n",
      "Press Esc/Ctrl + C to abort\n",
      "Please point your browser to the following url: \n",
      "https://accounts.google.com/o/oauth2/auth?client_id=465736758727.apps.googleusercontent.com&scope=https%3A%2F%2Fwww.googleapis.com%2Fauth%2Fbigquery%20https%3A%2F%2Fwww.googleapis.com%2Fauth%2Fcloud-platform&redirect_uri=http%3A%2F%2Flocalhost%3A1410%2F&response_type=code&state=0rqteRkWWf\n",
      "Authentication complete.\n",
      "Warning message in strptime(x, fmt, tz = \"GMT\"):\n",
      "“unknown timezone 'zone/tz/2018g.1.0/zoneinfo/Africa/Dakar'”0 bytes processed\n"
     ]
    }
   ],
   "source": [
    "## code\n",
    "project <- \"measurement-lab\"\n",
    "\n",
    "### query\n",
    "\n",
    "query <- \"#standardSQL\n",
    "    SELECT\n",
    "     datetime_trunc(datetime(TIMESTAMP_SECONDS(CAST(web100_log_entry.log_time AS INT64))), hour) AS datehour,\n",
    "     FORMAT_TIMESTAMP('%Y', log_time) AS y,\n",
    "     FORMAT_TIMESTAMP('%m', log_time) AS m,\n",
    "     EXTRACT(QUARTER FROM log_time) AS q,\n",
    "     CONCAT(FORMAT_TIMESTAMP('%Y', log_time),FORMAT_TIMESTAMP('%m', log_time),CAST(EXTRACT(QUARTER FROM log_time) AS STRING)) AS ymq,\n",
    "     COUNT(test_id) AS num_tests,\n",
    "     COUNT(DISTINCT web100_log_entry.connection_spec.remote_ip) AS num_clients,\n",
    "     AVG(8 * (web100_log_entry.snap.HCThruOctetsAcked / (web100_log_entry.snap.SndLimTimeRwin + web100_log_entry.snap.SndLimTimeCwnd + web100_log_entry.snap.SndLimTimeSnd))) AS avg_download_mbps,\n",
    "     MAX(8 * (web100_log_entry.snap.HCThruOctetsAcked / (web100_log_entry.snap.SndLimTimeRwin + web100_log_entry.snap.SndLimTimeCwnd + web100_log_entry.snap.SndLimTimeSnd))) AS max_download_mbps\n",
    "\n",
    " FROM `measurement-lab.ndt.base`\n",
    " WHERE\n",
    "     web100_log_entry.connection_spec.remote_ip IS NOT NULL\n",
    "     AND connection_spec.data_direction = 1\n",
    "     AND web100_log_entry.snap.HCThruOctetsAcked >= 8192\n",
    "     AND (web100_log_entry.snap.SndLimTimeRwin +\n",
    "            web100_log_entry.snap.SndLimTimeCwnd +\n",
    "            web100_log_entry.snap.SndLimTimeSnd) >= 9000000\n",
    "     AND (web100_log_entry.snap.SndLimTimeRwin +\n",
    "            web100_log_entry.snap.SndLimTimeCwnd +\n",
    "            web100_log_entry.snap.SndLimTimeSnd) < 600000000\n",
    "     AND web100_log_entry.snap.CongSignals > 0\n",
    "     AND (web100_log_entry.snap.State = 1 OR\n",
    "          (web100_log_entry.snap.State >= 5 AND\n",
    "            web100_log_entry.snap.State <= 11))\n",
    " GROUP BY datehour, y, m, q, ymq\n",
    " ORDER BY ymq DESC\n",
    ";\"\n",
    "\n",
    "## how much of this do I need?\n",
    "start.query<-query\n",
    "todo_copies <- query_exec(query, project = project, use_legacy_sql=FALSE, max_pages = Inf)"
   ]
  },
  {
   "cell_type": "code",
   "execution_count": 3,
   "metadata": {},
   "outputs": [
    {
     "data": {
      "text/html": [
       "<table>\n",
       "<thead><tr><th scope=col>datehour</th><th scope=col>y</th><th scope=col>m</th><th scope=col>q</th><th scope=col>ymq</th><th scope=col>num_tests</th><th scope=col>num_clients</th><th scope=col>avg_download_mbps</th><th scope=col>max_download_mbps</th></tr></thead>\n",
       "<tbody>\n",
       "\t<tr><td>2018-11-01 21:00:00</td><td>2018               </td><td>11                 </td><td>4                  </td><td>2018114            </td><td>44888              </td><td>26005              </td><td>22.66786           </td><td>2640.6581          </td></tr>\n",
       "\t<tr><td>2018-11-04 05:00:00</td><td>2018               </td><td>11                 </td><td>4                  </td><td>2018114            </td><td>24210              </td><td>11525              </td><td>23.05225           </td><td>2565.3246          </td></tr>\n",
       "\t<tr><td>2018-11-21 21:00:00</td><td>2018               </td><td>11                 </td><td>4                  </td><td>2018114            </td><td>44612              </td><td>25751              </td><td>23.55980           </td><td>2440.1625          </td></tr>\n",
       "\t<tr><td>2018-11-03 23:00:00</td><td>2018               </td><td>11                 </td><td>4                  </td><td>2018114            </td><td>35768              </td><td>20439              </td><td>23.03386           </td><td> 919.1969          </td></tr>\n",
       "\t<tr><td>2018-11-05 08:00:00</td><td>2018               </td><td>11                 </td><td>4                  </td><td>2018114            </td><td>24491              </td><td>13234              </td><td>20.35928           </td><td>2337.4653          </td></tr>\n",
       "\t<tr><td>2018-11-09 03:00:00</td><td>2018               </td><td>11                 </td><td>4                  </td><td>2018114            </td><td>30216              </td><td>15929              </td><td>21.76575           </td><td>2366.6888          </td></tr>\n",
       "</tbody>\n",
       "</table>\n"
      ],
      "text/latex": [
       "\\begin{tabular}{r|lllllllll}\n",
       " datehour & y & m & q & ymq & num\\_tests & num\\_clients & avg\\_download\\_mbps & max\\_download\\_mbps\\\\\n",
       "\\hline\n",
       "\t 2018-11-01 21:00:00 & 2018                & 11                  & 4                   & 2018114             & 44888               & 26005               & 22.66786            & 2640.6581          \\\\\n",
       "\t 2018-11-04 05:00:00 & 2018                & 11                  & 4                   & 2018114             & 24210               & 11525               & 23.05225            & 2565.3246          \\\\\n",
       "\t 2018-11-21 21:00:00 & 2018                & 11                  & 4                   & 2018114             & 44612               & 25751               & 23.55980            & 2440.1625          \\\\\n",
       "\t 2018-11-03 23:00:00 & 2018                & 11                  & 4                   & 2018114             & 35768               & 20439               & 23.03386            &  919.1969          \\\\\n",
       "\t 2018-11-05 08:00:00 & 2018                & 11                  & 4                   & 2018114             & 24491               & 13234               & 20.35928            & 2337.4653          \\\\\n",
       "\t 2018-11-09 03:00:00 & 2018                & 11                  & 4                   & 2018114             & 30216               & 15929               & 21.76575            & 2366.6888          \\\\\n",
       "\\end{tabular}\n"
      ],
      "text/markdown": [
       "\n",
       "datehour | y | m | q | ymq | num_tests | num_clients | avg_download_mbps | max_download_mbps | \n",
       "|---|---|---|---|---|---|\n",
       "| 2018-11-01 21:00:00 | 2018                | 11                  | 4                   | 2018114             | 44888               | 26005               | 22.66786            | 2640.6581           | \n",
       "| 2018-11-04 05:00:00 | 2018                | 11                  | 4                   | 2018114             | 24210               | 11525               | 23.05225            | 2565.3246           | \n",
       "| 2018-11-21 21:00:00 | 2018                | 11                  | 4                   | 2018114             | 44612               | 25751               | 23.55980            | 2440.1625           | \n",
       "| 2018-11-03 23:00:00 | 2018                | 11                  | 4                   | 2018114             | 35768               | 20439               | 23.03386            |  919.1969           | \n",
       "| 2018-11-05 08:00:00 | 2018                | 11                  | 4                   | 2018114             | 24491               | 13234               | 20.35928            | 2337.4653           | \n",
       "| 2018-11-09 03:00:00 | 2018                | 11                  | 4                   | 2018114             | 30216               | 15929               | 21.76575            | 2366.6888           | \n",
       "\n",
       "\n"
      ],
      "text/plain": [
       "  datehour            y    m  q ymq     num_tests num_clients avg_download_mbps\n",
       "1 2018-11-01 21:00:00 2018 11 4 2018114 44888     26005       22.66786         \n",
       "2 2018-11-04 05:00:00 2018 11 4 2018114 24210     11525       23.05225         \n",
       "3 2018-11-21 21:00:00 2018 11 4 2018114 44612     25751       23.55980         \n",
       "4 2018-11-03 23:00:00 2018 11 4 2018114 35768     20439       23.03386         \n",
       "5 2018-11-05 08:00:00 2018 11 4 2018114 24491     13234       20.35928         \n",
       "6 2018-11-09 03:00:00 2018 11 4 2018114 30216     15929       21.76575         \n",
       "  max_download_mbps\n",
       "1 2640.6581        \n",
       "2 2565.3246        \n",
       "3 2440.1625        \n",
       "4  919.1969        \n",
       "5 2337.4653        \n",
       "6 2366.6888        "
      ]
     },
     "metadata": {},
     "output_type": "display_data"
    }
   ],
   "source": [
    "head(todo_copies)"
   ]
  },
  {
   "cell_type": "code",
   "execution_count": 3,
   "metadata": {},
   "outputs": [
    {
     "ename": "ERROR",
     "evalue": "Error in ggplot(todo_copies, aes(x = (log(avg_download_mbps) * log(num_tests)), : object 'todo_copies' not found\n",
     "output_type": "error",
     "traceback": [
      "Error in ggplot(todo_copies, aes(x = (log(avg_download_mbps) * log(num_tests)), : object 'todo_copies' not found\nTraceback:\n",
      "1. ggplot(todo_copies, aes(x = (log(avg_download_mbps) * log(num_tests)), \n .     y = as.factor(ymq), height = ..density.., fill = y))"
     ]
    }
   ],
   "source": [
    "#Create Ridgeline Graphic\n",
    "#mlabdata6 <- read.csv(\"~/Dropbox/OTI/MLab/code/mlab-joyplot/ridgeline5.csv\")\n",
    "\n",
    "ggplot(todo_copies, aes(x = (log(avg_download_mbps)*log(num_tests)), y = as.factor(ymq), height=..density.., fill = y)) +\n",
    "  geom_density_ridges(stat=\"density\",scale=5) +\n",
    "  theme_minimal(base_size = 11) +\n",
    "  theme(axis.text.y = element_text(vjust = 0)) +\n",
    "  theme(legend.position = \"none\") +\n",
    "  xlim(0, 40)\n"
   ]
  }
 ],
 "metadata": {
  "kernelspec": {
   "display_name": "R",
   "language": "R",
   "name": "ir"
  },
  "language_info": {
   "codemirror_mode": "r",
   "file_extension": ".r",
   "mimetype": "text/x-r-source",
   "name": "R",
   "pygments_lexer": "r",
   "version": "3.4.1"
  }
 },
 "nbformat": 4,
 "nbformat_minor": 2
}
